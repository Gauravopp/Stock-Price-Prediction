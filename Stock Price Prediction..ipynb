{
 "cells": [
  {
   "cell_type": "code",
   "execution_count": 1,
   "id": "55a03d03",
   "metadata": {},
   "outputs": [
    {
     "name": "stdout",
     "output_type": "stream",
     "text": [
      "Requirement already satisfied: tensorflow in c:\\users\\my\\anaconda3\\lib\\site-packages (2.9.1)Note: you may need to restart the kernel to use updated packages.\n",
      "\n",
      "Requirement already satisfied: flatbuffers<2,>=1.12 in c:\\users\\my\\anaconda3\\lib\\site-packages (from tensorflow) (1.12)\n",
      "Requirement already satisfied: tensorboard<2.10,>=2.9 in c:\\users\\my\\anaconda3\\lib\\site-packages (from tensorflow) (2.9.1)\n",
      "Requirement already satisfied: gast<=0.4.0,>=0.2.1 in c:\\users\\my\\anaconda3\\lib\\site-packages (from tensorflow) (0.4.0)\n",
      "Requirement already satisfied: protobuf<3.20,>=3.9.2 in c:\\users\\my\\anaconda3\\lib\\site-packages (from tensorflow) (3.19.1)\n",
      "Requirement already satisfied: absl-py>=1.0.0 in c:\\users\\my\\anaconda3\\lib\\site-packages (from tensorflow) (1.2.0)\n",
      "Requirement already satisfied: tensorflow-io-gcs-filesystem>=0.23.1 in c:\\users\\my\\anaconda3\\lib\\site-packages (from tensorflow) (0.26.0)\n",
      "Requirement already satisfied: termcolor>=1.1.0 in c:\\users\\my\\anaconda3\\lib\\site-packages (from tensorflow) (1.1.0)\n",
      "Requirement already satisfied: keras<2.10.0,>=2.9.0rc0 in c:\\users\\my\\anaconda3\\lib\\site-packages (from tensorflow) (2.9.0)\n",
      "Requirement already satisfied: packaging in c:\\users\\my\\anaconda3\\lib\\site-packages (from tensorflow) (21.3)\n",
      "Requirement already satisfied: grpcio<2.0,>=1.24.3 in c:\\users\\my\\anaconda3\\lib\\site-packages (from tensorflow) (1.42.0)\n",
      "Requirement already satisfied: setuptools in c:\\users\\my\\anaconda3\\lib\\site-packages (from tensorflow) (61.2.0)\n",
      "Requirement already satisfied: keras-preprocessing>=1.1.1 in c:\\users\\my\\anaconda3\\lib\\site-packages (from tensorflow) (1.1.2)\n",
      "Requirement already satisfied: astunparse>=1.6.0 in c:\\users\\my\\anaconda3\\lib\\site-packages (from tensorflow) (1.6.3)\n",
      "Requirement already satisfied: google-pasta>=0.1.1 in c:\\users\\my\\anaconda3\\lib\\site-packages (from tensorflow) (0.2.0)\n",
      "Requirement already satisfied: h5py>=2.9.0 in c:\\users\\my\\anaconda3\\lib\\site-packages (from tensorflow) (3.6.0)\n",
      "Requirement already satisfied: six>=1.12.0 in c:\\users\\my\\anaconda3\\lib\\site-packages (from tensorflow) (1.16.0)\n",
      "Requirement already satisfied: typing-extensions>=3.6.6 in c:\\users\\my\\anaconda3\\lib\\site-packages (from tensorflow) (4.1.1)\n",
      "Requirement already satisfied: tensorflow-estimator<2.10.0,>=2.9.0rc0 in c:\\users\\my\\anaconda3\\lib\\site-packages (from tensorflow) (2.9.0)\n",
      "Requirement already satisfied: libclang>=13.0.0 in c:\\users\\my\\anaconda3\\lib\\site-packages (from tensorflow) (14.0.1)\n",
      "Requirement already satisfied: numpy>=1.20 in c:\\users\\my\\anaconda3\\lib\\site-packages (from tensorflow) (1.21.5)\n",
      "Requirement already satisfied: opt-einsum>=2.3.2 in c:\\users\\my\\anaconda3\\lib\\site-packages (from tensorflow) (3.3.0)\n",
      "Requirement already satisfied: wrapt>=1.11.0 in c:\\users\\my\\anaconda3\\lib\\site-packages (from tensorflow) (1.12.1)\n",
      "Requirement already satisfied: wheel<1.0,>=0.23.0 in c:\\users\\my\\anaconda3\\lib\\site-packages (from astunparse>=1.6.0->tensorflow) (0.37.1)\n",
      "Requirement already satisfied: tensorboard-plugin-wit>=1.6.0 in c:\\users\\my\\anaconda3\\lib\\site-packages (from tensorboard<2.10,>=2.9->tensorflow) (1.8.1)\n",
      "Requirement already satisfied: werkzeug>=1.0.1 in c:\\users\\my\\anaconda3\\lib\\site-packages (from tensorboard<2.10,>=2.9->tensorflow) (2.0.3)\n",
      "Requirement already satisfied: google-auth-oauthlib<0.5,>=0.4.1 in c:\\users\\my\\anaconda3\\lib\\site-packages (from tensorboard<2.10,>=2.9->tensorflow) (0.4.6)\n",
      "Requirement already satisfied: tensorboard-data-server<0.7.0,>=0.6.0 in c:\\users\\my\\anaconda3\\lib\\site-packages (from tensorboard<2.10,>=2.9->tensorflow) (0.6.1)\n",
      "Requirement already satisfied: markdown>=2.6.8 in c:\\users\\my\\anaconda3\\lib\\site-packages (from tensorboard<2.10,>=2.9->tensorflow) (3.3.4)\n",
      "Requirement already satisfied: google-auth<3,>=1.6.3 in c:\\users\\my\\anaconda3\\lib\\site-packages (from tensorboard<2.10,>=2.9->tensorflow) (1.33.0)\n",
      "Requirement already satisfied: requests<3,>=2.21.0 in c:\\users\\my\\anaconda3\\lib\\site-packages (from tensorboard<2.10,>=2.9->tensorflow) (2.27.1)\n",
      "Requirement already satisfied: pyasn1-modules>=0.2.1 in c:\\users\\my\\anaconda3\\lib\\site-packages (from google-auth<3,>=1.6.3->tensorboard<2.10,>=2.9->tensorflow) (0.2.8)\n",
      "Requirement already satisfied: cachetools<5.0,>=2.0.0 in c:\\users\\my\\anaconda3\\lib\\site-packages (from google-auth<3,>=1.6.3->tensorboard<2.10,>=2.9->tensorflow) (4.2.2)\n",
      "Requirement already satisfied: rsa<5,>=3.1.4 in c:\\users\\my\\anaconda3\\lib\\site-packages (from google-auth<3,>=1.6.3->tensorboard<2.10,>=2.9->tensorflow) (4.7.2)\n",
      "Requirement already satisfied: requests-oauthlib>=0.7.0 in c:\\users\\my\\anaconda3\\lib\\site-packages (from google-auth-oauthlib<0.5,>=0.4.1->tensorboard<2.10,>=2.9->tensorflow) (1.3.1)\n",
      "Requirement already satisfied: pyasn1<0.5.0,>=0.4.6 in c:\\users\\my\\anaconda3\\lib\\site-packages (from pyasn1-modules>=0.2.1->google-auth<3,>=1.6.3->tensorboard<2.10,>=2.9->tensorflow) (0.4.8)\n",
      "Requirement already satisfied: charset-normalizer~=2.0.0 in c:\\users\\my\\anaconda3\\lib\\site-packages (from requests<3,>=2.21.0->tensorboard<2.10,>=2.9->tensorflow) (2.0.4)\n",
      "Requirement already satisfied: certifi>=2017.4.17 in c:\\users\\my\\anaconda3\\lib\\site-packages (from requests<3,>=2.21.0->tensorboard<2.10,>=2.9->tensorflow) (2021.10.8)\n",
      "Requirement already satisfied: urllib3<1.27,>=1.21.1 in c:\\users\\my\\anaconda3\\lib\\site-packages (from requests<3,>=2.21.0->tensorboard<2.10,>=2.9->tensorflow) (1.26.9)\n",
      "Requirement already satisfied: idna<4,>=2.5 in c:\\users\\my\\anaconda3\\lib\\site-packages (from requests<3,>=2.21.0->tensorboard<2.10,>=2.9->tensorflow) (3.3)\n",
      "Requirement already satisfied: oauthlib>=3.0.0 in c:\\users\\my\\anaconda3\\lib\\site-packages (from requests-oauthlib>=0.7.0->google-auth-oauthlib<0.5,>=0.4.1->tensorboard<2.10,>=2.9->tensorflow) (3.2.0)\n",
      "Requirement already satisfied: pyparsing!=3.0.5,>=2.0.2 in c:\\users\\my\\anaconda3\\lib\\site-packages (from packaging->tensorflow) (3.0.4)\n"
     ]
    }
   ],
   "source": [
    "pip install tensorflow"
   ]
  },
  {
   "cell_type": "code",
   "execution_count": 2,
   "id": "90bdbf8f",
   "metadata": {},
   "outputs": [],
   "source": [
    "import math\n",
    "import pandas as pd\n",
    "import numpy as np\n",
    "import seaborn as sns\n",
    "from sklearn.preprocessing import MinMaxScaler\n",
    "from keras.models import Sequential\n",
    "from keras.layers import Dense,LSTM\n",
    "import matplotlib.pyplot as plt\n",
    "plt.style.use('fivethirtyeight')"
   ]
  },
  {
   "cell_type": "code",
   "execution_count": 3,
   "id": "7ff2d6cc",
   "metadata": {},
   "outputs": [
    {
     "data": {
      "text/html": [
       "<div>\n",
       "<style scoped>\n",
       "    .dataframe tbody tr th:only-of-type {\n",
       "        vertical-align: middle;\n",
       "    }\n",
       "\n",
       "    .dataframe tbody tr th {\n",
       "        vertical-align: top;\n",
       "    }\n",
       "\n",
       "    .dataframe thead th {\n",
       "        text-align: right;\n",
       "    }\n",
       "</style>\n",
       "<table border=\"1\" class=\"dataframe\">\n",
       "  <thead>\n",
       "    <tr style=\"text-align: right;\">\n",
       "      <th></th>\n",
       "      <th>Open</th>\n",
       "      <th>High</th>\n",
       "      <th>Low</th>\n",
       "      <th>Close</th>\n",
       "      <th>Adj Close</th>\n",
       "      <th>Volume</th>\n",
       "    </tr>\n",
       "    <tr>\n",
       "      <th>Date</th>\n",
       "      <th></th>\n",
       "      <th></th>\n",
       "      <th></th>\n",
       "      <th></th>\n",
       "      <th></th>\n",
       "      <th></th>\n",
       "    </tr>\n",
       "  </thead>\n",
       "  <tbody>\n",
       "    <tr>\n",
       "      <th>2018-02-05</th>\n",
       "      <td>262.000000</td>\n",
       "      <td>267.899994</td>\n",
       "      <td>250.029999</td>\n",
       "      <td>254.259995</td>\n",
       "      <td>254.259995</td>\n",
       "      <td>11896100.0</td>\n",
       "    </tr>\n",
       "    <tr>\n",
       "      <th>2018-02-06</th>\n",
       "      <td>247.699997</td>\n",
       "      <td>266.700012</td>\n",
       "      <td>245.000000</td>\n",
       "      <td>265.720001</td>\n",
       "      <td>265.720001</td>\n",
       "      <td>12595800.0</td>\n",
       "    </tr>\n",
       "    <tr>\n",
       "      <th>2018-02-07</th>\n",
       "      <td>266.579987</td>\n",
       "      <td>272.450012</td>\n",
       "      <td>264.329987</td>\n",
       "      <td>264.559998</td>\n",
       "      <td>264.559998</td>\n",
       "      <td>8981500.0</td>\n",
       "    </tr>\n",
       "    <tr>\n",
       "      <th>2018-02-08</th>\n",
       "      <td>267.079987</td>\n",
       "      <td>267.619995</td>\n",
       "      <td>250.000000</td>\n",
       "      <td>250.100006</td>\n",
       "      <td>250.100006</td>\n",
       "      <td>9306700.0</td>\n",
       "    </tr>\n",
       "    <tr>\n",
       "      <th>2018-02-09</th>\n",
       "      <td>253.850006</td>\n",
       "      <td>255.800003</td>\n",
       "      <td>236.110001</td>\n",
       "      <td>249.470001</td>\n",
       "      <td>249.470001</td>\n",
       "      <td>16906900.0</td>\n",
       "    </tr>\n",
       "  </tbody>\n",
       "</table>\n",
       "</div>"
      ],
      "text/plain": [
       "                  Open        High         Low       Close   Adj Close  \\\n",
       "Date                                                                     \n",
       "2018-02-05  262.000000  267.899994  250.029999  254.259995  254.259995   \n",
       "2018-02-06  247.699997  266.700012  245.000000  265.720001  265.720001   \n",
       "2018-02-07  266.579987  272.450012  264.329987  264.559998  264.559998   \n",
       "2018-02-08  267.079987  267.619995  250.000000  250.100006  250.100006   \n",
       "2018-02-09  253.850006  255.800003  236.110001  249.470001  249.470001   \n",
       "\n",
       "                Volume  \n",
       "Date                    \n",
       "2018-02-05  11896100.0  \n",
       "2018-02-06  12595800.0  \n",
       "2018-02-07   8981500.0  \n",
       "2018-02-08   9306700.0  \n",
       "2018-02-09  16906900.0  "
      ]
     },
     "execution_count": 3,
     "metadata": {},
     "output_type": "execute_result"
    }
   ],
   "source": [
    "data = pd.read_excel('D:\\\\Download\\\\1613615-Stock_Price_data_set.xlsx',index_col = 'Date')\n",
    "data.head()"
   ]
  },
  {
   "cell_type": "code",
   "execution_count": 5,
   "id": "11d73131",
   "metadata": {},
   "outputs": [
    {
     "data": {
      "text/plain": [
       "(1009, 6)"
      ]
     },
     "execution_count": 5,
     "metadata": {},
     "output_type": "execute_result"
    }
   ],
   "source": [
    "#Get number of rows and columns in data set\n",
    "data.shape"
   ]
  },
  {
   "cell_type": "code",
   "execution_count": 7,
   "id": "01f584a8",
   "metadata": {},
   "outputs": [
    {
     "data": {
      "image/png": "[encoded data removed]",
      "text/plain": [
       "<Figure size 1152x576 with 1 Axes>"
      ]
     },
     "metadata": {},
     "output_type": "display_data"
    }
   ],
   "source": [
    "#visualization of the closing histry\n",
    "plt.figure(figsize=(16,8))\n",
    "plt.title('Close price history')\n",
    "plt.plot(data['Close'])\n",
    "plt.xlabel('date',fontsize=18)\n",
    "plt.ylabel('close price ')\n",
    "plt.show()"
   ]
  },
  {
   "cell_type": "code",
   "execution_count": 9,
   "id": "3d196249",
   "metadata": {},
   "outputs": [
    {
     "data": {
      "text/plain": [
       "808"
      ]
     },
     "execution_count": 9,
     "metadata": {},
     "output_type": "execute_result"
    }
   ],
   "source": [
    "#create a new dataframe with only the close column\n",
    "df=data.filter(['Close'])\n",
    "#convert the dataframe into numpy arry\n",
    "dataset=df.values\n",
    "#get the number of rows to train the model\n",
    "training_data_len=math.ceil(len(dataset)*0.8)\n",
    "training_data_len"
   ]
  },
  {
   "cell_type": "code",
   "execution_count": 10,
   "id": "6a333569",
   "metadata": {},
   "outputs": [
    {
     "data": {
      "text/plain": [
       "array([[0.04451626],\n",
       "       [0.06954849],\n",
       "       [0.06701469],\n",
       "       ...,\n",
       "       [0.4272515 ],\n",
       "       [0.37509011],\n",
       "       [0.38507243]])"
      ]
     },
     "execution_count": 10,
     "metadata": {},
     "output_type": "execute_result"
    }
   ],
   "source": [
    "#scale the data\n",
    "scaler=MinMaxScaler(feature_range=(0,1))\n",
    "scaled_data=scaler.fit_transform(dataset)\n",
    "scaled_data"
   ]
  },
  {
   "cell_type": "code",
   "execution_count": 11,
   "id": "be9cf2bc",
   "metadata": {},
   "outputs": [
    {
     "name": "stdout",
     "output_type": "stream",
     "text": [
      "[array([0.04451626, 0.06954849, 0.06701469, 0.03542955, 0.03405342,\n",
      "       0.05257641, 0.05327534, 0.0701601 , 0.10133021, 0.09750767,\n",
      "       0.09757319, 0.10301218, 0.09667768, 0.11369343, 0.13167034,\n",
      "       0.12391599, 0.12559796, 0.12343551, 0.14672022, 0.1771914 ,\n",
      "       0.19951508, 0.19064677, 0.18156003, 0.2131015 , 0.19095254,\n",
      "       0.17911361, 0.19149862, 0.19049385, 0.18472731, 0.17387127,\n",
      "       0.18265218, 0.18042421, 0.15906164, 0.14647998, 0.18887749,\n",
      "       0.1459339 , 0.11334393, 0.13426968, 0.10137394, 0.10875693,\n",
      "       0.12026823, 0.13125532, 0.12007165, 0.12243068, 0.14021101,\n",
      "       0.15244317, 0.16463161, 0.16987394, 0.16142066, 0.22319301,\n",
      "       0.21982915, 0.21585376, 0.20508505, 0.18525152, 0.15976057,\n",
      "       0.15700838, 0.17496343, 0.17011425, 0.17164323, 0.17347804])]\n",
      "[0.17360909661393864]\n",
      "\n",
      "[array([0.04451626, 0.06954849, 0.06701469, 0.03542955, 0.03405342,\n",
      "       0.05257641, 0.05327534, 0.0701601 , 0.10133021, 0.09750767,\n",
      "       0.09757319, 0.10301218, 0.09667768, 0.11369343, 0.13167034,\n",
      "       0.12391599, 0.12559796, 0.12343551, 0.14672022, 0.1771914 ,\n",
      "       0.19951508, 0.19064677, 0.18156003, 0.2131015 , 0.19095254,\n",
      "       0.17911361, 0.19149862, 0.19049385, 0.18472731, 0.17387127,\n",
      "       0.18265218, 0.18042421, 0.15906164, 0.14647998, 0.18887749,\n",
      "       0.1459339 , 0.11334393, 0.13426968, 0.10137394, 0.10875693,\n",
      "       0.12026823, 0.13125532, 0.12007165, 0.12243068, 0.14021101,\n",
      "       0.15244317, 0.16463161, 0.16987394, 0.16142066, 0.22319301,\n",
      "       0.21982915, 0.21585376, 0.20508505, 0.18525152, 0.15976057,\n",
      "       0.15700838, 0.17496343, 0.17011425, 0.17164323, 0.17347804]), array([0.06954849, 0.06701469, 0.03542955, 0.03405342, 0.05257641,\n",
      "       0.05327534, 0.0701601 , 0.10133021, 0.09750767, 0.09757319,\n",
      "       0.10301218, 0.09667768, 0.11369343, 0.13167034, 0.12391599,\n",
      "       0.12559796, 0.12343551, 0.14672022, 0.1771914 , 0.19951508,\n",
      "       0.19064677, 0.18156003, 0.2131015 , 0.19095254, 0.17911361,\n",
      "       0.19149862, 0.19049385, 0.18472731, 0.17387127, 0.18265218,\n",
      "       0.18042421, 0.15906164, 0.14647998, 0.18887749, 0.1459339 ,\n",
      "       0.11334393, 0.13426968, 0.10137394, 0.10875693, 0.12026823,\n",
      "       0.13125532, 0.12007165, 0.12243068, 0.14021101, 0.15244317,\n",
      "       0.16463161, 0.16987394, 0.16142066, 0.22319301, 0.21982915,\n",
      "       0.21585376, 0.20508505, 0.18525152, 0.15976057, 0.15700838,\n",
      "       0.17496343, 0.17011425, 0.17164323, 0.17347804, 0.1736091 ])]\n",
      "[0.17360909661393864, 0.16996133223364263]\n",
      "\n"
     ]
    }
   ],
   "source": [
    "#create the training data set\n",
    "#create the scaled training data set\n",
    "train_data=scaled_data[0:training_data_len,:]\n",
    "#split the data into x_train and y_train data sets\n",
    "x_train=[]\n",
    "y_train=[]\n",
    "\n",
    "for i in range (60,len(train_data)):\n",
    "    x_train.append(train_data[i-60:i,0])\n",
    "    y_train.append(train_data[i,0])\n",
    "    if i<=61:\n",
    "        print(x_train)\n",
    "        print(y_train)\n",
    "        print()"
   ]
  },
  {
   "cell_type": "code",
   "execution_count": 12,
   "id": "9e3b4b6e",
   "metadata": {},
   "outputs": [],
   "source": [
    "#convert the x_train and y_train to numpy arrays\n",
    "x_train,y_train=np.array(x_train),np.array(y_train)"
   ]
  },
  {
   "cell_type": "code",
   "execution_count": 13,
   "id": "5e485372",
   "metadata": {},
   "outputs": [
    {
     "data": {
      "text/plain": [
       "(748, 60, 1)"
      ]
     },
     "execution_count": 13,
     "metadata": {},
     "output_type": "execute_result"
    }
   ],
   "source": [
    "#reshape the data\n",
    "x_train=np.reshape(x_train,(x_train.shape[0],x_train.shape[1],1))\n",
    "x_train.shape"
   ]
  },
  {
   "cell_type": "code",
   "execution_count": 14,
   "id": "1a7d2589",
   "metadata": {},
   "outputs": [],
   "source": [
    "#build the LSTM model\n",
    "model=Sequential()\n",
    "model.add(LSTM(50,return_sequences=True,input_shape=(x_train.shape[1],1)))\n",
    "model.add(LSTM(50,return_sequences=False))\n",
    "model.add(Dense(25))\n",
    "model.add(Dense(1))"
   ]
  },
  {
   "cell_type": "code",
   "execution_count": 15,
   "id": "a7a00ae0",
   "metadata": {},
   "outputs": [],
   "source": [
    "#compile the model\n",
    "model.compile(optimizer='adam',loss='mean_squared_error')"
   ]
  },
  {
   "cell_type": "code",
   "execution_count": 16,
   "id": "4c05392c",
   "metadata": {},
   "outputs": [
    {
     "name": "stdout",
     "output_type": "stream",
     "text": [
      "748/748 [==============================] - 37s 36ms/step - loss: 0.0032\n"
     ]
    },
    {
     "data": {
      "text/plain": [
       "<keras.callbacks.History at 0x1af8bd13c70>"
      ]
     },
     "execution_count": 16,
     "metadata": {},
     "output_type": "execute_result"
    }
   ],
   "source": [
    "#train the model\n",
    "model.fit(x_train,y_train,batch_size=1,epochs=1)"
   ]
  },
  {
   "cell_type": "code",
   "execution_count": 17,
   "id": "f4f51ce3",
   "metadata": {},
   "outputs": [],
   "source": [
    "#create the testiong data set\n",
    "#create the new arry containing scaled values from index \n",
    "test_data=scaled_data[training_data_len-60:,:]\n",
    "#create the data set x_test and y_test\n",
    "x_test=[]\n",
    "y_test=dataset[training_data_len:, :]\n",
    "for i in range (60,len(test_data)):\n",
    "    x_test.append(test_data[i-60:i,0])"
   ]
  },
  {
   "cell_type": "code",
   "execution_count": 18,
   "id": "e72c1f25",
   "metadata": {},
   "outputs": [],
   "source": [
    "#convert data into numpy\n",
    "x_test=np.array(x_test)"
   ]
  },
  {
   "cell_type": "code",
   "execution_count": 19,
   "id": "37ed5a6f",
   "metadata": {},
   "outputs": [],
   "source": [
    "#reshape the data\n",
    "x_test=np.reshape(x_test,(x_test.shape[0],x_test.shape[1],1))"
   ]
  },
  {
   "cell_type": "code",
   "execution_count": 20,
   "id": "83856043",
   "metadata": {},
   "outputs": [
    {
     "name": "stdout",
     "output_type": "stream",
     "text": [
      "7/7 [==============================] - 3s 29ms/step\n"
     ]
    },
    {
     "data": {
      "text/plain": [
       "array([[526.85516],\n",
       "       [520.8114 ],\n",
       "       [514.5009 ],\n",
       "       [509.45117],\n",
       "       [504.97208],\n",
       "       [501.4551 ],\n",
       "       [499.0878 ],\n",
       "       [498.04202],\n",
       "       [497.14993],\n",
       "       [495.7427 ],\n",
       "       [493.44885],\n",
       "       [491.49066],\n",
       "       [490.39905],\n",
       "       [487.72852],\n",
       "       [485.7939 ],\n",
       "       [483.13998],\n",
       "       [480.74915],\n",
       "       [479.54697],\n",
       "       [478.44482],\n",
       "       [477.22852],\n",
       "       [476.28595],\n",
       "       [477.234  ],\n",
       "       [478.37115],\n",
       "       [480.08017],\n",
       "       [481.6109 ],\n",
       "       [483.0018 ],\n",
       "       [484.32712],\n",
       "       [485.32065],\n",
       "       [485.60007],\n",
       "       [485.56726],\n",
       "       [484.21732],\n",
       "       [483.14502],\n",
       "       [482.28064],\n",
       "       [481.34824],\n",
       "       [479.72867],\n",
       "       [478.21567],\n",
       "       [477.1015 ],\n",
       "       [477.62433],\n",
       "       [477.79434],\n",
       "       [477.9015 ],\n",
       "       [478.66898],\n",
       "       [479.89062],\n",
       "       [480.70013],\n",
       "       [482.66916],\n",
       "       [485.3115 ],\n",
       "       [488.55362],\n",
       "       [492.7242 ],\n",
       "       [497.46313],\n",
       "       [501.89236],\n",
       "       [504.99194],\n",
       "       [507.805  ],\n",
       "       [510.1591 ],\n",
       "       [512.9595 ],\n",
       "       [514.8698 ],\n",
       "       [515.5702 ],\n",
       "       [516.33374],\n",
       "       [517.1614 ],\n",
       "       [518.33105],\n",
       "       [520.3847 ],\n",
       "       [521.9179 ],\n",
       "       [521.53345],\n",
       "       [520.69446],\n",
       "       [519.5921 ],\n",
       "       [516.4002 ],\n",
       "       [512.594  ],\n",
       "       [509.4367 ],\n",
       "       [507.0614 ],\n",
       "       [505.61728],\n",
       "       [504.7976 ],\n",
       "       [503.7415 ],\n",
       "       [503.14566],\n",
       "       [502.50262],\n",
       "       [501.40536],\n",
       "       [501.05566],\n",
       "       [501.9425 ],\n",
       "       [502.68958],\n",
       "       [503.24255],\n",
       "       [503.13672],\n",
       "       [502.35718],\n",
       "       [501.1883 ],\n",
       "       [500.62686],\n",
       "       [500.60837],\n",
       "       [500.94247],\n",
       "       [501.74582],\n",
       "       [505.29468],\n",
       "       [509.86252],\n",
       "       [515.0939 ],\n",
       "       [519.9314 ],\n",
       "       [523.2741 ],\n",
       "       [525.8941 ],\n",
       "       [528.9293 ],\n",
       "       [532.60065],\n",
       "       [536.41986],\n",
       "       [541.4092 ],\n",
       "       [546.9952 ],\n",
       "       [552.346  ],\n",
       "       [558.93066],\n",
       "       [565.00525],\n",
       "       [569.0458 ],\n",
       "       [571.9289 ],\n",
       "       [572.7655 ],\n",
       "       [571.27844],\n",
       "       [569.73615],\n",
       "       [568.7838 ],\n",
       "       [568.5525 ],\n",
       "       [566.9227 ],\n",
       "       [564.7533 ],\n",
       "       [564.82733],\n",
       "       [566.03784],\n",
       "       [567.473  ],\n",
       "       [568.86975],\n",
       "       [568.97327],\n",
       "       [570.4822 ],\n",
       "       [573.6749 ],\n",
       "       [577.4475 ],\n",
       "       [579.743  ],\n",
       "       [585.1536 ],\n",
       "       [591.4505 ],\n",
       "       [596.37915],\n",
       "       [600.26636],\n",
       "       [602.49   ],\n",
       "       [603.5161 ],\n",
       "       [604.53735],\n",
       "       [605.89923],\n",
       "       [606.51337],\n",
       "       [608.02783],\n",
       "       [609.7728 ],\n",
       "       [609.6475 ],\n",
       "       [612.4408 ],\n",
       "       [617.2981 ],\n",
       "       [623.17676],\n",
       "       [628.2647 ],\n",
       "       [631.6844 ],\n",
       "       [635.43225],\n",
       "       [640.77875],\n",
       "       [644.7665 ],\n",
       "       [647.3465 ],\n",
       "       [650.3941 ],\n",
       "       [650.59503],\n",
       "       [646.949  ],\n",
       "       [643.16504],\n",
       "       [640.3271 ],\n",
       "       [637.0701 ],\n",
       "       [635.53577],\n",
       "       [637.9949 ],\n",
       "       [641.1309 ],\n",
       "       [645.2221 ],\n",
       "       [649.6281 ],\n",
       "       [652.3008 ],\n",
       "       [653.59454],\n",
       "       [651.6767 ],\n",
       "       [648.2411 ],\n",
       "       [645.20886],\n",
       "       [643.6297 ],\n",
       "       [642.5653 ],\n",
       "       [639.10205],\n",
       "       [632.27405],\n",
       "       [624.99896],\n",
       "       [616.6496 ],\n",
       "       [610.38794],\n",
       "       [607.31036],\n",
       "       [606.16437],\n",
       "       [603.80927],\n",
       "       [601.4831 ],\n",
       "       [598.53455],\n",
       "       [594.9195 ],\n",
       "       [592.4064 ],\n",
       "       [588.83984],\n",
       "       [584.85767],\n",
       "       [582.09766],\n",
       "       [581.52783],\n",
       "       [583.0281 ],\n",
       "       [585.117  ],\n",
       "       [587.0639 ],\n",
       "       [588.39197],\n",
       "       [589.27045],\n",
       "       [590.0268 ],\n",
       "       [589.3988 ],\n",
       "       [587.7116 ],\n",
       "       [585.04694],\n",
       "       [579.4032 ],\n",
       "       [571.64374],\n",
       "       [562.54846],\n",
       "       [553.96063],\n",
       "       [546.78156],\n",
       "       [540.6472 ],\n",
       "       [533.5431 ],\n",
       "       [527.8209 ],\n",
       "       [521.5128 ],\n",
       "       [516.43896],\n",
       "       [511.54077],\n",
       "       [494.06665],\n",
       "       [472.7569 ],\n",
       "       [449.8677 ],\n",
       "       [428.29102],\n",
       "       [412.8668 ],\n",
       "       [401.6258 ],\n",
       "       [398.4356 ],\n",
       "       [402.60263],\n",
       "       [406.44873],\n",
       "       [407.03662]], dtype=float32)"
      ]
     },
     "execution_count": 20,
     "metadata": {},
     "output_type": "execute_result"
    }
   ],
   "source": [
    "#get the model predicted values\n",
    "predictions=model.predict(x_test)\n",
    "predictions=scaler.inverse_transform(predictions)\n",
    "predictions"
   ]
  },
  {
   "cell_type": "code",
   "execution_count": 21,
   "id": "9f30187a",
   "metadata": {},
   "outputs": [
    {
     "data": {
      "text/plain": [
       "14.7969424340796"
      ]
     },
     "execution_count": 21,
     "metadata": {},
     "output_type": "execute_result"
    }
   ],
   "source": [
    "# get the root mean squared error(RMSE)\n",
    "rmse=np.sqrt(np.mean(predictions-y_test)**2)\n",
    "rmse"
   ]
  },
  {
   "cell_type": "code",
   "execution_count": 22,
   "id": "f1c10d4a",
   "metadata": {},
   "outputs": [
    {
     "name": "stderr",
     "output_type": "stream",
     "text": [
      "C:\\Users\\MY\\AppData\\Local\\Temp\\ipykernel_9408\\2726897236.py:4: SettingWithCopyWarning: \n",
      "A value is trying to be set on a copy of a slice from a DataFrame.\n",
      "Try using .loc[row_indexer,col_indexer] = value instead\n",
      "\n",
      "See the caveats in the documentation: https://pandas.pydata.org/pandas-docs/stable/user_guide/indexing.html#returning-a-view-versus-a-copy\n",
      "  valid['predictions']=predictions\n"
     ]
    },
    {
     "data": {
      "image/png": "[encoded data removed]",
      "text/plain": [
       "<Figure size 1152x576 with 1 Axes>"
      ]
     },
     "metadata": {},
     "output_type": "display_data"
    }
   ],
   "source": [
    "#plot the data\n",
    "train=df[:training_data_len]\n",
    "valid=df[training_data_len:]\n",
    "valid['predictions']=predictions\n",
    "#visualization of data\n",
    "plt.figure(figsize=(16,8))\n",
    "plt.title('Model')\n",
    "plt.xlabel('date',fontsize=18)\n",
    "plt.ylabel('close price',fontsize=18)\n",
    "plt.plot(train['Close'])\n",
    "plt.plot(valid[['Close','predictions']])\n",
    "plt.legend(['train','val','prediction'],loc='lower right')\n",
    "plt.show()"
   ]
  },
  {
   "cell_type": "code",
   "execution_count": 23,
   "id": "2b5a10a8",
   "metadata": {},
   "outputs": [
    {
     "data": {
      "text/html": [
       "<div>\n",
       "<style scoped>\n",
       "    .dataframe tbody tr th:only-of-type {\n",
       "        vertical-align: middle;\n",
       "    }\n",
       "\n",
       "    .dataframe tbody tr th {\n",
       "        vertical-align: top;\n",
       "    }\n",
       "\n",
       "    .dataframe thead th {\n",
       "        text-align: right;\n",
       "    }\n",
       "</style>\n",
       "<table border=\"1\" class=\"dataframe\">\n",
       "  <thead>\n",
       "    <tr style=\"text-align: right;\">\n",
       "      <th></th>\n",
       "      <th>Close</th>\n",
       "      <th>predictions</th>\n",
       "    </tr>\n",
       "    <tr>\n",
       "      <th>Date</th>\n",
       "      <th></th>\n",
       "      <th></th>\n",
       "    </tr>\n",
       "  </thead>\n",
       "  <tbody>\n",
       "    <tr>\n",
       "      <th>2021-04-22</th>\n",
       "      <td>508.779999</td>\n",
       "      <td>526.855164</td>\n",
       "    </tr>\n",
       "    <tr>\n",
       "      <th>2021-04-23</th>\n",
       "      <td>505.549988</td>\n",
       "      <td>520.811401</td>\n",
       "    </tr>\n",
       "    <tr>\n",
       "      <th>2021-04-26</th>\n",
       "      <td>510.299988</td>\n",
       "      <td>514.500916</td>\n",
       "    </tr>\n",
       "    <tr>\n",
       "      <th>2021-04-27</th>\n",
       "      <td>505.549988</td>\n",
       "      <td>509.451172</td>\n",
       "    </tr>\n",
       "    <tr>\n",
       "      <th>2021-04-28</th>\n",
       "      <td>506.519989</td>\n",
       "      <td>504.972076</td>\n",
       "    </tr>\n",
       "    <tr>\n",
       "      <th>...</th>\n",
       "      <td>...</td>\n",
       "      <td>...</td>\n",
       "    </tr>\n",
       "    <tr>\n",
       "      <th>2022-01-31</th>\n",
       "      <td>427.140015</td>\n",
       "      <td>401.625793</td>\n",
       "    </tr>\n",
       "    <tr>\n",
       "      <th>2022-02-01</th>\n",
       "      <td>457.130005</td>\n",
       "      <td>398.435608</td>\n",
       "    </tr>\n",
       "    <tr>\n",
       "      <th>2022-02-02</th>\n",
       "      <td>429.480011</td>\n",
       "      <td>402.602631</td>\n",
       "    </tr>\n",
       "    <tr>\n",
       "      <th>2022-02-03</th>\n",
       "      <td>405.600006</td>\n",
       "      <td>406.448730</td>\n",
       "    </tr>\n",
       "    <tr>\n",
       "      <th>2022-02-04</th>\n",
       "      <td>410.170013</td>\n",
       "      <td>407.036621</td>\n",
       "    </tr>\n",
       "  </tbody>\n",
       "</table>\n",
       "<p>201 rows × 2 columns</p>\n",
       "</div>"
      ],
      "text/plain": [
       "                 Close  predictions\n",
       "Date                               \n",
       "2021-04-22  508.779999   526.855164\n",
       "2021-04-23  505.549988   520.811401\n",
       "2021-04-26  510.299988   514.500916\n",
       "2021-04-27  505.549988   509.451172\n",
       "2021-04-28  506.519989   504.972076\n",
       "...                ...          ...\n",
       "2022-01-31  427.140015   401.625793\n",
       "2022-02-01  457.130005   398.435608\n",
       "2022-02-02  429.480011   402.602631\n",
       "2022-02-03  405.600006   406.448730\n",
       "2022-02-04  410.170013   407.036621\n",
       "\n",
       "[201 rows x 2 columns]"
      ]
     },
     "execution_count": 23,
     "metadata": {},
     "output_type": "execute_result"
    }
   ],
   "source": [
    "# show the valid and actual prices\n",
    "valid"
   ]
  },
  {
   "cell_type": "code",
   "execution_count": null,
   "id": "00c14769",
   "metadata": {},
   "outputs": [],
   "source": []
  }
 ],
 "metadata": {
  "kernelspec": {
   "display_name": "Python 3 (ipykernel)",
   "language": "python",
   "name": "python3"
  },
  "language_info": {
   "codemirror_mode": {
    "name": "ipython",
    "version": 3
   },
   "file_extension": ".py",
   "mimetype": "text/x-python",
   "name": "python",
   "nbconvert_exporter": "python",
   "pygments_lexer": "ipython3",
   "version": "3.9.12"
  }
 },
 "nbformat": 4,
 "nbformat_minor": 5
}
